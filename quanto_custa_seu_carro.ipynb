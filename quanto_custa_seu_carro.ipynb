{
  "nbformat": 4,
  "nbformat_minor": 0,
  "metadata": {
    "colab": {
      "name": "quanto-custa-seu-carro.ipynb",
      "provenance": [],
      "collapsed_sections": [],
      "include_colab_link": true
    },
    "kernelspec": {
      "name": "python3",
      "display_name": "Python 3"
    },
    "language_info": {
      "name": "python"
    },
    "widgets": {
      "application/vnd.jupyter.widget-state+json": {
        "42fde6ae9d6d4817a89d626a46f63197": {
          "model_module": "@jupyter-widgets/controls",
          "model_name": "DropdownModel",
          "model_module_version": "1.5.0",
          "state": {
            "_dom_classes": [],
            "_model_module": "@jupyter-widgets/controls",
            "_model_module_version": "1.5.0",
            "_model_name": "DropdownModel",
            "_options_labels": [
              "acura",
              "agrale",
              "alfa romeo",
              "am gen",
              "americar",
              "asia motors",
              "audi",
              "baby",
              "bentley",
              "bmw",
              "brm",
              "buggy",
              "bugre",
              "byd",
              "cab motors",
              "cadillac",
              "cbt jipe",
              "chana",
              "changan",
              "chery",
              "chrysler",
              "citroen",
              "daewoo",
              "daihatsu",
              "dkw vemag",
              "dodge",
              "effa",
              "engesa",
              "ferrari",
              "fiat",
              "fibravan",
              "ford",
              "fyber",
              "geely",
              "gm - chevrolet",
              "gurgel",
              "hafei",
              "honda",
              "hyundai",
              "infiniti",
              "isuzu",
              "iveco",
              "jac",
              "jaguar",
              "jeep",
              "jinbei",
              "kia motors",
              "lada",
              "lamborghini",
              "land rover",
              "lexus",
              "lifan",
              "mahindra",
              "maserati",
              "mazda",
              "mercedes-benz",
              "mg",
              "mini",
              "mitsubishi",
              "mp lafer",
              "nissan",
              "peugeot",
              "pontiac",
              "porsche",
              "puma",
              "ram",
              "rely",
              "renault",
              "seat",
              "shineray",
              "smart",
              "ssangyong",
              "subaru",
              "suzuki",
              "tac",
              "tesla",
              "toyota",
              "troller",
              "ventura",
              "volvo",
              "vw - volkswagen",
              "wake",
              "walk",
              "willys overland"
            ],
            "_view_count": null,
            "_view_module": "@jupyter-widgets/controls",
            "_view_module_version": "1.5.0",
            "_view_name": "DropdownView",
            "description": "Marca:",
            "description_tooltip": null,
            "disabled": false,
            "index": 0,
            "layout": "IPY_MODEL_28d1add01f6747cdb8a28fa908c4f78f",
            "style": "IPY_MODEL_abf455329bcb466f932c9dba95f98516"
          }
        },
        "28d1add01f6747cdb8a28fa908c4f78f": {
          "model_module": "@jupyter-widgets/base",
          "model_name": "LayoutModel",
          "model_module_version": "1.2.0",
          "state": {
            "_model_module": "@jupyter-widgets/base",
            "_model_module_version": "1.2.0",
            "_model_name": "LayoutModel",
            "_view_count": null,
            "_view_module": "@jupyter-widgets/base",
            "_view_module_version": "1.2.0",
            "_view_name": "LayoutView",
            "align_content": null,
            "align_items": null,
            "align_self": null,
            "border": null,
            "bottom": null,
            "display": null,
            "flex": null,
            "flex_flow": null,
            "grid_area": null,
            "grid_auto_columns": null,
            "grid_auto_flow": null,
            "grid_auto_rows": null,
            "grid_column": null,
            "grid_gap": null,
            "grid_row": null,
            "grid_template_areas": null,
            "grid_template_columns": null,
            "grid_template_rows": null,
            "height": null,
            "justify_content": null,
            "justify_items": null,
            "left": null,
            "margin": null,
            "max_height": null,
            "max_width": null,
            "min_height": null,
            "min_width": null,
            "object_fit": null,
            "object_position": null,
            "order": null,
            "overflow": null,
            "overflow_x": null,
            "overflow_y": null,
            "padding": null,
            "right": null,
            "top": null,
            "visibility": null,
            "width": null
          }
        },
        "abf455329bcb466f932c9dba95f98516": {
          "model_module": "@jupyter-widgets/controls",
          "model_name": "DescriptionStyleModel",
          "model_module_version": "1.5.0",
          "state": {
            "_model_module": "@jupyter-widgets/controls",
            "_model_module_version": "1.5.0",
            "_model_name": "DescriptionStyleModel",
            "_view_count": null,
            "_view_module": "@jupyter-widgets/base",
            "_view_module_version": "1.2.0",
            "_view_name": "StyleView",
            "description_width": ""
          }
        },
        "3f96cf510e84469692bda59e1b94ec66": {
          "model_module": "@jupyter-widgets/controls",
          "model_name": "DropdownModel",
          "model_module_version": "1.5.0",
          "state": {
            "_dom_classes": [],
            "_model_module": "@jupyter-widgets/controls",
            "_model_module_version": "1.5.0",
            "_model_name": "DropdownModel",
            "_options_labels": [
              "antigo",
              "buggy",
              "conversível",
              "hatch",
              "passeio",
              "pick-up",
              "suv",
              "sedã",
              "van/utilitário"
            ],
            "_view_count": null,
            "_view_module": "@jupyter-widgets/controls",
            "_view_module_version": "1.5.0",
            "_view_name": "DropdownView",
            "description": "Tipo Veículo:",
            "description_tooltip": null,
            "disabled": false,
            "index": 0,
            "layout": "IPY_MODEL_9cff78a209e946bb9c3303ae7e835fcb",
            "style": "IPY_MODEL_ac3147f55da94e3892ae7567dc70d1b1"
          }
        },
        "9cff78a209e946bb9c3303ae7e835fcb": {
          "model_module": "@jupyter-widgets/base",
          "model_name": "LayoutModel",
          "model_module_version": "1.2.0",
          "state": {
            "_model_module": "@jupyter-widgets/base",
            "_model_module_version": "1.2.0",
            "_model_name": "LayoutModel",
            "_view_count": null,
            "_view_module": "@jupyter-widgets/base",
            "_view_module_version": "1.2.0",
            "_view_name": "LayoutView",
            "align_content": null,
            "align_items": null,
            "align_self": null,
            "border": null,
            "bottom": null,
            "display": null,
            "flex": null,
            "flex_flow": null,
            "grid_area": null,
            "grid_auto_columns": null,
            "grid_auto_flow": null,
            "grid_auto_rows": null,
            "grid_column": null,
            "grid_gap": null,
            "grid_row": null,
            "grid_template_areas": null,
            "grid_template_columns": null,
            "grid_template_rows": null,
            "height": null,
            "justify_content": null,
            "justify_items": null,
            "left": null,
            "margin": null,
            "max_height": null,
            "max_width": null,
            "min_height": null,
            "min_width": null,
            "object_fit": null,
            "object_position": null,
            "order": null,
            "overflow": null,
            "overflow_x": null,
            "overflow_y": null,
            "padding": null,
            "right": null,
            "top": null,
            "visibility": null,
            "width": null
          }
        },
        "ac3147f55da94e3892ae7567dc70d1b1": {
          "model_module": "@jupyter-widgets/controls",
          "model_name": "DescriptionStyleModel",
          "model_module_version": "1.5.0",
          "state": {
            "_model_module": "@jupyter-widgets/controls",
            "_model_module_version": "1.5.0",
            "_model_name": "DescriptionStyleModel",
            "_view_count": null,
            "_view_module": "@jupyter-widgets/base",
            "_view_module_version": "1.2.0",
            "_view_name": "StyleView",
            "description_width": ""
          }
        },
        "c9b3181eb1ac4844aadb664ae06f2dc8": {
          "model_module": "@jupyter-widgets/controls",
          "model_name": "IntSliderModel",
          "model_module_version": "1.5.0",
          "state": {
            "_dom_classes": [],
            "_model_module": "@jupyter-widgets/controls",
            "_model_module_version": "1.5.0",
            "_model_name": "IntSliderModel",
            "_view_count": null,
            "_view_module": "@jupyter-widgets/controls",
            "_view_module_version": "1.5.0",
            "_view_name": "IntSliderView",
            "continuous_update": true,
            "description": "Ano Veículo:",
            "description_tooltip": null,
            "disabled": false,
            "layout": "IPY_MODEL_451c65ec29b3403fbdbcbca81bba9281",
            "max": 2022,
            "min": 1990,
            "orientation": "horizontal",
            "readout": true,
            "readout_format": "d",
            "step": 1,
            "style": "IPY_MODEL_bf1e7b5e467c49e088bd1c6f42cde50e",
            "value": 2022
          }
        },
        "451c65ec29b3403fbdbcbca81bba9281": {
          "model_module": "@jupyter-widgets/base",
          "model_name": "LayoutModel",
          "model_module_version": "1.2.0",
          "state": {
            "_model_module": "@jupyter-widgets/base",
            "_model_module_version": "1.2.0",
            "_model_name": "LayoutModel",
            "_view_count": null,
            "_view_module": "@jupyter-widgets/base",
            "_view_module_version": "1.2.0",
            "_view_name": "LayoutView",
            "align_content": null,
            "align_items": null,
            "align_self": null,
            "border": null,
            "bottom": null,
            "display": null,
            "flex": null,
            "flex_flow": null,
            "grid_area": null,
            "grid_auto_columns": null,
            "grid_auto_flow": null,
            "grid_auto_rows": null,
            "grid_column": null,
            "grid_gap": null,
            "grid_row": null,
            "grid_template_areas": null,
            "grid_template_columns": null,
            "grid_template_rows": null,
            "height": null,
            "justify_content": null,
            "justify_items": null,
            "left": null,
            "margin": null,
            "max_height": null,
            "max_width": null,
            "min_height": null,
            "min_width": null,
            "object_fit": null,
            "object_position": null,
            "order": null,
            "overflow": null,
            "overflow_x": null,
            "overflow_y": null,
            "padding": null,
            "right": null,
            "top": null,
            "visibility": null,
            "width": null
          }
        },
        "bf1e7b5e467c49e088bd1c6f42cde50e": {
          "model_module": "@jupyter-widgets/controls",
          "model_name": "SliderStyleModel",
          "model_module_version": "1.5.0",
          "state": {
            "_model_module": "@jupyter-widgets/controls",
            "_model_module_version": "1.5.0",
            "_model_name": "SliderStyleModel",
            "_view_count": null,
            "_view_module": "@jupyter-widgets/base",
            "_view_module_version": "1.2.0",
            "_view_name": "StyleView",
            "description_width": "",
            "handle_color": null
          }
        },
        "980dd355df8c469c8060bd92a7787721": {
          "model_module": "@jupyter-widgets/controls",
          "model_name": "BoundedIntTextModel",
          "model_module_version": "1.5.0",
          "state": {
            "_dom_classes": [],
            "_model_module": "@jupyter-widgets/controls",
            "_model_module_version": "1.5.0",
            "_model_name": "BoundedIntTextModel",
            "_view_count": null,
            "_view_module": "@jupyter-widgets/controls",
            "_view_module_version": "1.5.0",
            "_view_name": "IntTextView",
            "continuous_update": false,
            "description": "KM Veículo:",
            "description_tooltip": null,
            "disabled": false,
            "layout": "IPY_MODEL_675dc881b5d446ccb800263159f0ff81",
            "max": 200000,
            "min": 5000,
            "step": 1,
            "style": "IPY_MODEL_645e37abe8034c7984556d40ed7611bd",
            "value": 5000
          }
        },
        "675dc881b5d446ccb800263159f0ff81": {
          "model_module": "@jupyter-widgets/base",
          "model_name": "LayoutModel",
          "model_module_version": "1.2.0",
          "state": {
            "_model_module": "@jupyter-widgets/base",
            "_model_module_version": "1.2.0",
            "_model_name": "LayoutModel",
            "_view_count": null,
            "_view_module": "@jupyter-widgets/base",
            "_view_module_version": "1.2.0",
            "_view_name": "LayoutView",
            "align_content": null,
            "align_items": null,
            "align_self": null,
            "border": null,
            "bottom": null,
            "display": null,
            "flex": null,
            "flex_flow": null,
            "grid_area": null,
            "grid_auto_columns": null,
            "grid_auto_flow": null,
            "grid_auto_rows": null,
            "grid_column": null,
            "grid_gap": null,
            "grid_row": null,
            "grid_template_areas": null,
            "grid_template_columns": null,
            "grid_template_rows": null,
            "height": null,
            "justify_content": null,
            "justify_items": null,
            "left": null,
            "margin": null,
            "max_height": null,
            "max_width": null,
            "min_height": null,
            "min_width": null,
            "object_fit": null,
            "object_position": null,
            "order": null,
            "overflow": null,
            "overflow_x": null,
            "overflow_y": null,
            "padding": null,
            "right": null,
            "top": null,
            "visibility": null,
            "width": null
          }
        },
        "645e37abe8034c7984556d40ed7611bd": {
          "model_module": "@jupyter-widgets/controls",
          "model_name": "DescriptionStyleModel",
          "model_module_version": "1.5.0",
          "state": {
            "_model_module": "@jupyter-widgets/controls",
            "_model_module_version": "1.5.0",
            "_model_name": "DescriptionStyleModel",
            "_view_count": null,
            "_view_module": "@jupyter-widgets/base",
            "_view_module_version": "1.2.0",
            "_view_name": "StyleView",
            "description_width": ""
          }
        },
        "fbc162599e144512af0e4012474c5adc": {
          "model_module": "@jupyter-widgets/controls",
          "model_name": "FloatSliderModel",
          "model_module_version": "1.5.0",
          "state": {
            "_dom_classes": [],
            "_model_module": "@jupyter-widgets/controls",
            "_model_module_version": "1.5.0",
            "_model_name": "FloatSliderModel",
            "_view_count": null,
            "_view_module": "@jupyter-widgets/controls",
            "_view_module_version": "1.5.0",
            "_view_name": "FloatSliderView",
            "continuous_update": true,
            "description": "Potência:",
            "description_tooltip": null,
            "disabled": false,
            "layout": "IPY_MODEL_eac0d692ecc44a12843f09087265efea",
            "max": 4,
            "min": 1,
            "orientation": "horizontal",
            "readout": true,
            "readout_format": ".2f",
            "step": 0.1,
            "style": "IPY_MODEL_b89a04dbf680401c8da2d1c78eced2d9",
            "value": 1
          }
        },
        "eac0d692ecc44a12843f09087265efea": {
          "model_module": "@jupyter-widgets/base",
          "model_name": "LayoutModel",
          "model_module_version": "1.2.0",
          "state": {
            "_model_module": "@jupyter-widgets/base",
            "_model_module_version": "1.2.0",
            "_model_name": "LayoutModel",
            "_view_count": null,
            "_view_module": "@jupyter-widgets/base",
            "_view_module_version": "1.2.0",
            "_view_name": "LayoutView",
            "align_content": null,
            "align_items": null,
            "align_self": null,
            "border": null,
            "bottom": null,
            "display": null,
            "flex": null,
            "flex_flow": null,
            "grid_area": null,
            "grid_auto_columns": null,
            "grid_auto_flow": null,
            "grid_auto_rows": null,
            "grid_column": null,
            "grid_gap": null,
            "grid_row": null,
            "grid_template_areas": null,
            "grid_template_columns": null,
            "grid_template_rows": null,
            "height": null,
            "justify_content": null,
            "justify_items": null,
            "left": null,
            "margin": null,
            "max_height": null,
            "max_width": null,
            "min_height": null,
            "min_width": null,
            "object_fit": null,
            "object_position": null,
            "order": null,
            "overflow": null,
            "overflow_x": null,
            "overflow_y": null,
            "padding": null,
            "right": null,
            "top": null,
            "visibility": null,
            "width": null
          }
        },
        "b89a04dbf680401c8da2d1c78eced2d9": {
          "model_module": "@jupyter-widgets/controls",
          "model_name": "SliderStyleModel",
          "model_module_version": "1.5.0",
          "state": {
            "_model_module": "@jupyter-widgets/controls",
            "_model_module_version": "1.5.0",
            "_model_name": "SliderStyleModel",
            "_view_count": null,
            "_view_module": "@jupyter-widgets/base",
            "_view_module_version": "1.2.0",
            "_view_name": "StyleView",
            "description_width": "",
            "handle_color": null
          }
        },
        "1a4d062ea237412b871c605cafd04983": {
          "model_module": "@jupyter-widgets/controls",
          "model_name": "DropdownModel",
          "model_module_version": "1.5.0",
          "state": {
            "_dom_classes": [],
            "_model_module": "@jupyter-widgets/controls",
            "_model_module_version": "1.5.0",
            "_model_name": "DropdownModel",
            "_options_labels": [
              "amarelo",
              "azul",
              "branco",
              "cinza",
              "laranja",
              "outra",
              "prata",
              "preto",
              "verde",
              "vermelho"
            ],
            "_view_count": null,
            "_view_module": "@jupyter-widgets/controls",
            "_view_module_version": "1.5.0",
            "_view_name": "DropdownView",
            "description": "Cor:",
            "description_tooltip": null,
            "disabled": false,
            "index": 0,
            "layout": "IPY_MODEL_1a1cbaaf1f9f45f0be0cf82bc6e4d880",
            "style": "IPY_MODEL_a538310fafc24008a0cf63b94a345c20"
          }
        },
        "1a1cbaaf1f9f45f0be0cf82bc6e4d880": {
          "model_module": "@jupyter-widgets/base",
          "model_name": "LayoutModel",
          "model_module_version": "1.2.0",
          "state": {
            "_model_module": "@jupyter-widgets/base",
            "_model_module_version": "1.2.0",
            "_model_name": "LayoutModel",
            "_view_count": null,
            "_view_module": "@jupyter-widgets/base",
            "_view_module_version": "1.2.0",
            "_view_name": "LayoutView",
            "align_content": null,
            "align_items": null,
            "align_self": null,
            "border": null,
            "bottom": null,
            "display": null,
            "flex": null,
            "flex_flow": null,
            "grid_area": null,
            "grid_auto_columns": null,
            "grid_auto_flow": null,
            "grid_auto_rows": null,
            "grid_column": null,
            "grid_gap": null,
            "grid_row": null,
            "grid_template_areas": null,
            "grid_template_columns": null,
            "grid_template_rows": null,
            "height": null,
            "justify_content": null,
            "justify_items": null,
            "left": null,
            "margin": null,
            "max_height": null,
            "max_width": null,
            "min_height": null,
            "min_width": null,
            "object_fit": null,
            "object_position": null,
            "order": null,
            "overflow": null,
            "overflow_x": null,
            "overflow_y": null,
            "padding": null,
            "right": null,
            "top": null,
            "visibility": null,
            "width": null
          }
        },
        "a538310fafc24008a0cf63b94a345c20": {
          "model_module": "@jupyter-widgets/controls",
          "model_name": "DescriptionStyleModel",
          "model_module_version": "1.5.0",
          "state": {
            "_model_module": "@jupyter-widgets/controls",
            "_model_module_version": "1.5.0",
            "_model_name": "DescriptionStyleModel",
            "_view_count": null,
            "_view_module": "@jupyter-widgets/base",
            "_view_module_version": "1.2.0",
            "_view_name": "StyleView",
            "description_width": ""
          }
        },
        "be38b1de7c334be39c6990df79e0d139": {
          "model_module": "@jupyter-widgets/controls",
          "model_name": "DropdownModel",
          "model_module_version": "1.5.0",
          "state": {
            "_dom_classes": [],
            "_model_module": "@jupyter-widgets/controls",
            "_model_module_version": "1.5.0",
            "_model_name": "DropdownModel",
            "_options_labels": [
              "diesel",
              "elétrico",
              "flex",
              "gasolina",
              "gás natural",
              "híbrido",
              "álcool"
            ],
            "_view_count": null,
            "_view_module": "@jupyter-widgets/controls",
            "_view_module_version": "1.5.0",
            "_view_name": "DropdownView",
            "description": "Combustível:",
            "description_tooltip": null,
            "disabled": false,
            "index": 0,
            "layout": "IPY_MODEL_05bcf188d6ad4a35be33c8073599d625",
            "style": "IPY_MODEL_2e818fa0c2e14e4f8c33dd02445531ef"
          }
        },
        "05bcf188d6ad4a35be33c8073599d625": {
          "model_module": "@jupyter-widgets/base",
          "model_name": "LayoutModel",
          "model_module_version": "1.2.0",
          "state": {
            "_model_module": "@jupyter-widgets/base",
            "_model_module_version": "1.2.0",
            "_model_name": "LayoutModel",
            "_view_count": null,
            "_view_module": "@jupyter-widgets/base",
            "_view_module_version": "1.2.0",
            "_view_name": "LayoutView",
            "align_content": null,
            "align_items": null,
            "align_self": null,
            "border": null,
            "bottom": null,
            "display": null,
            "flex": null,
            "flex_flow": null,
            "grid_area": null,
            "grid_auto_columns": null,
            "grid_auto_flow": null,
            "grid_auto_rows": null,
            "grid_column": null,
            "grid_gap": null,
            "grid_row": null,
            "grid_template_areas": null,
            "grid_template_columns": null,
            "grid_template_rows": null,
            "height": null,
            "justify_content": null,
            "justify_items": null,
            "left": null,
            "margin": null,
            "max_height": null,
            "max_width": null,
            "min_height": null,
            "min_width": null,
            "object_fit": null,
            "object_position": null,
            "order": null,
            "overflow": null,
            "overflow_x": null,
            "overflow_y": null,
            "padding": null,
            "right": null,
            "top": null,
            "visibility": null,
            "width": null
          }
        },
        "2e818fa0c2e14e4f8c33dd02445531ef": {
          "model_module": "@jupyter-widgets/controls",
          "model_name": "DescriptionStyleModel",
          "model_module_version": "1.5.0",
          "state": {
            "_model_module": "@jupyter-widgets/controls",
            "_model_module_version": "1.5.0",
            "_model_name": "DescriptionStyleModel",
            "_view_count": null,
            "_view_module": "@jupyter-widgets/base",
            "_view_module_version": "1.2.0",
            "_view_name": "StyleView",
            "description_width": ""
          }
        },
        "ae78c0f4ac9a4e42a1bfd03ea5ad8385": {
          "model_module": "@jupyter-widgets/controls",
          "model_name": "DropdownModel",
          "model_module_version": "1.5.0",
          "state": {
            "_dom_classes": [],
            "_model_module": "@jupyter-widgets/controls",
            "_model_module_version": "1.5.0",
            "_model_name": "DropdownModel",
            "_options_labels": [
              "automático",
              "manual",
              "semi-automático"
            ],
            "_view_count": null,
            "_view_module": "@jupyter-widgets/controls",
            "_view_module_version": "1.5.0",
            "_view_name": "DropdownView",
            "description": "Câmbio:",
            "description_tooltip": null,
            "disabled": false,
            "index": 0,
            "layout": "IPY_MODEL_456367d15f1e4e0caec4613cd7f2dd06",
            "style": "IPY_MODEL_aa10bfef862442cc89e1461d128885e6"
          }
        },
        "456367d15f1e4e0caec4613cd7f2dd06": {
          "model_module": "@jupyter-widgets/base",
          "model_name": "LayoutModel",
          "model_module_version": "1.2.0",
          "state": {
            "_model_module": "@jupyter-widgets/base",
            "_model_module_version": "1.2.0",
            "_model_name": "LayoutModel",
            "_view_count": null,
            "_view_module": "@jupyter-widgets/base",
            "_view_module_version": "1.2.0",
            "_view_name": "LayoutView",
            "align_content": null,
            "align_items": null,
            "align_self": null,
            "border": null,
            "bottom": null,
            "display": null,
            "flex": null,
            "flex_flow": null,
            "grid_area": null,
            "grid_auto_columns": null,
            "grid_auto_flow": null,
            "grid_auto_rows": null,
            "grid_column": null,
            "grid_gap": null,
            "grid_row": null,
            "grid_template_areas": null,
            "grid_template_columns": null,
            "grid_template_rows": null,
            "height": null,
            "justify_content": null,
            "justify_items": null,
            "left": null,
            "margin": null,
            "max_height": null,
            "max_width": null,
            "min_height": null,
            "min_width": null,
            "object_fit": null,
            "object_position": null,
            "order": null,
            "overflow": null,
            "overflow_x": null,
            "overflow_y": null,
            "padding": null,
            "right": null,
            "top": null,
            "visibility": null,
            "width": null
          }
        },
        "aa10bfef862442cc89e1461d128885e6": {
          "model_module": "@jupyter-widgets/controls",
          "model_name": "DescriptionStyleModel",
          "model_module_version": "1.5.0",
          "state": {
            "_model_module": "@jupyter-widgets/controls",
            "_model_module_version": "1.5.0",
            "_model_name": "DescriptionStyleModel",
            "_view_count": null,
            "_view_module": "@jupyter-widgets/base",
            "_view_module_version": "1.2.0",
            "_view_name": "StyleView",
            "description_width": ""
          }
        },
        "d265c76505b84b2a8f5c4353c607a54c": {
          "model_module": "@jupyter-widgets/controls",
          "model_name": "DropdownModel",
          "model_module_version": "1.5.0",
          "state": {
            "_dom_classes": [],
            "_model_module": "@jupyter-widgets/controls",
            "_model_module_version": "1.5.0",
            "_model_name": "DropdownModel",
            "_options_labels": [
              "assistida",
              "elétrica",
              "hidráulica",
              "mecânica"
            ],
            "_view_count": null,
            "_view_module": "@jupyter-widgets/controls",
            "_view_module_version": "1.5.0",
            "_view_name": "DropdownView",
            "description": "Direção:",
            "description_tooltip": null,
            "disabled": false,
            "index": 0,
            "layout": "IPY_MODEL_c38923f96d6c4c729db4454262e6637b",
            "style": "IPY_MODEL_721d8dc52ae641b4ac185a81a27d93d6"
          }
        },
        "c38923f96d6c4c729db4454262e6637b": {
          "model_module": "@jupyter-widgets/base",
          "model_name": "LayoutModel",
          "model_module_version": "1.2.0",
          "state": {
            "_model_module": "@jupyter-widgets/base",
            "_model_module_version": "1.2.0",
            "_model_name": "LayoutModel",
            "_view_count": null,
            "_view_module": "@jupyter-widgets/base",
            "_view_module_version": "1.2.0",
            "_view_name": "LayoutView",
            "align_content": null,
            "align_items": null,
            "align_self": null,
            "border": null,
            "bottom": null,
            "display": null,
            "flex": null,
            "flex_flow": null,
            "grid_area": null,
            "grid_auto_columns": null,
            "grid_auto_flow": null,
            "grid_auto_rows": null,
            "grid_column": null,
            "grid_gap": null,
            "grid_row": null,
            "grid_template_areas": null,
            "grid_template_columns": null,
            "grid_template_rows": null,
            "height": null,
            "justify_content": null,
            "justify_items": null,
            "left": null,
            "margin": null,
            "max_height": null,
            "max_width": null,
            "min_height": null,
            "min_width": null,
            "object_fit": null,
            "object_position": null,
            "order": null,
            "overflow": null,
            "overflow_x": null,
            "overflow_y": null,
            "padding": null,
            "right": null,
            "top": null,
            "visibility": null,
            "width": null
          }
        },
        "721d8dc52ae641b4ac185a81a27d93d6": {
          "model_module": "@jupyter-widgets/controls",
          "model_name": "DescriptionStyleModel",
          "model_module_version": "1.5.0",
          "state": {
            "_model_module": "@jupyter-widgets/controls",
            "_model_module_version": "1.5.0",
            "_model_name": "DescriptionStyleModel",
            "_view_count": null,
            "_view_module": "@jupyter-widgets/base",
            "_view_module_version": "1.2.0",
            "_view_name": "StyleView",
            "description_width": ""
          }
        },
        "0d598f3b76fe43a490c2c44212a97cdf": {
          "model_module": "@jupyter-widgets/controls",
          "model_name": "DropdownModel",
          "model_module_version": "1.5.0",
          "state": {
            "_dom_classes": [],
            "_model_module": "@jupyter-widgets/controls",
            "_model_module_version": "1.5.0",
            "_model_name": "DropdownModel",
            "_options_labels": [
              "2",
              "4"
            ],
            "_view_count": null,
            "_view_module": "@jupyter-widgets/controls",
            "_view_module_version": "1.5.0",
            "_view_name": "DropdownView",
            "description": "Portas:",
            "description_tooltip": null,
            "disabled": false,
            "index": 0,
            "layout": "IPY_MODEL_e183e7cba54448cdbf62dc11e02b715c",
            "style": "IPY_MODEL_ec3ab796ef4b41b7866f85f2bb5953c6"
          }
        },
        "e183e7cba54448cdbf62dc11e02b715c": {
          "model_module": "@jupyter-widgets/base",
          "model_name": "LayoutModel",
          "model_module_version": "1.2.0",
          "state": {
            "_model_module": "@jupyter-widgets/base",
            "_model_module_version": "1.2.0",
            "_model_name": "LayoutModel",
            "_view_count": null,
            "_view_module": "@jupyter-widgets/base",
            "_view_module_version": "1.2.0",
            "_view_name": "LayoutView",
            "align_content": null,
            "align_items": null,
            "align_self": null,
            "border": null,
            "bottom": null,
            "display": null,
            "flex": null,
            "flex_flow": null,
            "grid_area": null,
            "grid_auto_columns": null,
            "grid_auto_flow": null,
            "grid_auto_rows": null,
            "grid_column": null,
            "grid_gap": null,
            "grid_row": null,
            "grid_template_areas": null,
            "grid_template_columns": null,
            "grid_template_rows": null,
            "height": null,
            "justify_content": null,
            "justify_items": null,
            "left": null,
            "margin": null,
            "max_height": null,
            "max_width": null,
            "min_height": null,
            "min_width": null,
            "object_fit": null,
            "object_position": null,
            "order": null,
            "overflow": null,
            "overflow_x": null,
            "overflow_y": null,
            "padding": null,
            "right": null,
            "top": null,
            "visibility": null,
            "width": null
          }
        },
        "ec3ab796ef4b41b7866f85f2bb5953c6": {
          "model_module": "@jupyter-widgets/controls",
          "model_name": "DescriptionStyleModel",
          "model_module_version": "1.5.0",
          "state": {
            "_model_module": "@jupyter-widgets/controls",
            "_model_module_version": "1.5.0",
            "_model_name": "DescriptionStyleModel",
            "_view_count": null,
            "_view_module": "@jupyter-widgets/base",
            "_view_module_version": "1.2.0",
            "_view_name": "StyleView",
            "description_width": ""
          }
        },
        "80c44fed0cef414db70f83e11fddf251": {
          "model_module": "@jupyter-widgets/controls",
          "model_name": "ButtonModel",
          "model_module_version": "1.5.0",
          "state": {
            "_dom_classes": [],
            "_model_module": "@jupyter-widgets/controls",
            "_model_module_version": "1.5.0",
            "_model_name": "ButtonModel",
            "_view_count": null,
            "_view_module": "@jupyter-widgets/controls",
            "_view_module_version": "1.5.0",
            "_view_name": "ButtonView",
            "button_style": "info",
            "description": "Fazer previsão!",
            "disabled": false,
            "icon": "check",
            "layout": "IPY_MODEL_56e7696c55e04ac5818847981bd599f7",
            "style": "IPY_MODEL_d4b347a004274bd3a6994716f77cad19",
            "tooltip": ""
          }
        },
        "56e7696c55e04ac5818847981bd599f7": {
          "model_module": "@jupyter-widgets/base",
          "model_name": "LayoutModel",
          "model_module_version": "1.2.0",
          "state": {
            "_model_module": "@jupyter-widgets/base",
            "_model_module_version": "1.2.0",
            "_model_name": "LayoutModel",
            "_view_count": null,
            "_view_module": "@jupyter-widgets/base",
            "_view_module_version": "1.2.0",
            "_view_name": "LayoutView",
            "align_content": null,
            "align_items": null,
            "align_self": null,
            "border": null,
            "bottom": null,
            "display": null,
            "flex": null,
            "flex_flow": null,
            "grid_area": null,
            "grid_auto_columns": null,
            "grid_auto_flow": null,
            "grid_auto_rows": null,
            "grid_column": null,
            "grid_gap": null,
            "grid_row": null,
            "grid_template_areas": null,
            "grid_template_columns": null,
            "grid_template_rows": null,
            "height": null,
            "justify_content": null,
            "justify_items": null,
            "left": null,
            "margin": null,
            "max_height": null,
            "max_width": null,
            "min_height": null,
            "min_width": null,
            "object_fit": null,
            "object_position": null,
            "order": null,
            "overflow": null,
            "overflow_x": null,
            "overflow_y": null,
            "padding": null,
            "right": null,
            "top": null,
            "visibility": null,
            "width": null
          }
        },
        "d4b347a004274bd3a6994716f77cad19": {
          "model_module": "@jupyter-widgets/controls",
          "model_name": "ButtonStyleModel",
          "model_module_version": "1.5.0",
          "state": {
            "_model_module": "@jupyter-widgets/controls",
            "_model_module_version": "1.5.0",
            "_model_name": "ButtonStyleModel",
            "_view_count": null,
            "_view_module": "@jupyter-widgets/base",
            "_view_module_version": "1.2.0",
            "_view_name": "StyleView",
            "button_color": null,
            "font_weight": ""
          }
        },
        "19e7e6e15dad4283a185bb62a365cdab": {
          "model_module": "@jupyter-widgets/output",
          "model_name": "OutputModel",
          "model_module_version": "1.0.0",
          "state": {
            "_dom_classes": [],
            "_model_module": "@jupyter-widgets/output",
            "_model_module_version": "1.0.0",
            "_model_name": "OutputModel",
            "_view_count": null,
            "_view_module": "@jupyter-widgets/output",
            "_view_module_version": "1.0.0",
            "_view_name": "OutputView",
            "layout": "IPY_MODEL_9ef9f3165b6f4b0f87fb9f117a9506be",
            "msg_id": "",
            "outputs": []
          }
        },
        "9ef9f3165b6f4b0f87fb9f117a9506be": {
          "model_module": "@jupyter-widgets/base",
          "model_name": "LayoutModel",
          "model_module_version": "1.2.0",
          "state": {
            "_model_module": "@jupyter-widgets/base",
            "_model_module_version": "1.2.0",
            "_model_name": "LayoutModel",
            "_view_count": null,
            "_view_module": "@jupyter-widgets/base",
            "_view_module_version": "1.2.0",
            "_view_name": "LayoutView",
            "align_content": null,
            "align_items": null,
            "align_self": null,
            "border": null,
            "bottom": null,
            "display": null,
            "flex": null,
            "flex_flow": null,
            "grid_area": null,
            "grid_auto_columns": null,
            "grid_auto_flow": null,
            "grid_auto_rows": null,
            "grid_column": null,
            "grid_gap": null,
            "grid_row": null,
            "grid_template_areas": null,
            "grid_template_columns": null,
            "grid_template_rows": null,
            "height": null,
            "justify_content": null,
            "justify_items": null,
            "left": null,
            "margin": null,
            "max_height": null,
            "max_width": null,
            "min_height": null,
            "min_width": null,
            "object_fit": null,
            "object_position": null,
            "order": null,
            "overflow": null,
            "overflow_x": null,
            "overflow_y": null,
            "padding": null,
            "right": null,
            "top": null,
            "visibility": null,
            "width": null
          }
        }
      }
    }
  },
  "cells": [
    {
      "cell_type": "markdown",
      "metadata": {
        "id": "view-in-github",
        "colab_type": "text"
      },
      "source": [
        "<a href=\"https://colab.research.google.com/github/marantmir/ExerciciosPython/blob/main/quanto_custa_seu_carro.ipynb\" target=\"_parent\"><img src=\"https://colab.research.google.com/assets/colab-badge.svg\" alt=\"Open In Colab\"/></a>"
      ]
    },
    {
      "cell_type": "markdown",
      "source": [
        "# O que é?\n",
        "- Essa é uma aplicação protótipo utilizando algoritmo de `machine learning` para prever o valor aproximado de uma automóvel com base em algumas das suas características.\n",
        "\n",
        "# **INSTRUÇÕES DE USO**\n",
        "- Para executar aplicação é simples e você precisa apenas executar os passos a seguir:\n",
        "  - executar as célulca cliando em no sinal de `play` no canto esquerdo de **cada célula**, conforme a figura abaixo\n",
        "  ![image.png](data:image/png;base64,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)\n",
        "  - Ao fazer a execução irá aparecer a caixa de dialógo para fazer o login\n",
        "  ![image.png](data:image/png;base64,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)\n",
        "  - Feito o login \n",
        "  - Quando executar a célula da linha `formulario_modelo.ipynb` essa célula pode demorar um pouco para executar, está iniciando todo programa.\n",
        "  - Após finalizar, insira as características do automóvel e clique em **FAZER PREVISÃO**\n",
        "\n",
        "## **Autor**\n",
        "- Gabriel L. Gomes\n",
        "- Agosto de 2022\n",
        "\n",
        "# **Contato para dúvidas, sugestões, feedback**\n",
        "- [@info_dados](https://www.instagram.com/info_dados/)\n",
        "- [LinkedIn](https://www.linkedin.com/in/gabriellimagomes/)\n"
      ],
      "metadata": {
        "id": "Hqi5ygKyYfas"
      }
    },
    {
      "cell_type": "code",
      "source": [
        "import gdown\n",
        "gdown.download(\"https://drive.google.com/uc?id=1bN6OlRuVqjNCR2_Fo2sJkM_kDf9Nk3Of\", quiet=True) "
      ],
      "metadata": {
        "colab": {
          "base_uri": "https://localhost:8080/",
          "height": 36
        },
        "id": "4tWQ1B694CZS",
        "outputId": "6919217a-727c-45f7-992a-985554285d81"
      },
      "execution_count": null,
      "outputs": [
        {
          "output_type": "execute_result",
          "data": {
            "text/plain": [
              "'formulario_modelo.ipynb'"
            ],
            "application/vnd.google.colaboratory.intrinsic+json": {
              "type": "string"
            }
          },
          "metadata": {},
          "execution_count": 1
        }
      ]
    },
    {
      "cell_type": "code",
      "source": [
        "%run formulario_modelo.ipynb"
      ],
      "metadata": {
        "id": "gmRT30UtTRvL",
        "outputId": "7093f948-1dc5-426c-ff7c-38c30d21bc37",
        "colab": {
          "base_uri": "https://localhost:8080/",
          "height": 368,
          "referenced_widgets": [
            "42fde6ae9d6d4817a89d626a46f63197",
            "28d1add01f6747cdb8a28fa908c4f78f",
            "abf455329bcb466f932c9dba95f98516",
            "3f96cf510e84469692bda59e1b94ec66",
            "9cff78a209e946bb9c3303ae7e835fcb",
            "ac3147f55da94e3892ae7567dc70d1b1",
            "c9b3181eb1ac4844aadb664ae06f2dc8",
            "451c65ec29b3403fbdbcbca81bba9281",
            "bf1e7b5e467c49e088bd1c6f42cde50e",
            "980dd355df8c469c8060bd92a7787721",
            "675dc881b5d446ccb800263159f0ff81",
            "645e37abe8034c7984556d40ed7611bd",
            "fbc162599e144512af0e4012474c5adc",
            "eac0d692ecc44a12843f09087265efea",
            "b89a04dbf680401c8da2d1c78eced2d9",
            "1a4d062ea237412b871c605cafd04983",
            "1a1cbaaf1f9f45f0be0cf82bc6e4d880",
            "a538310fafc24008a0cf63b94a345c20",
            "be38b1de7c334be39c6990df79e0d139",
            "05bcf188d6ad4a35be33c8073599d625",
            "2e818fa0c2e14e4f8c33dd02445531ef",
            "ae78c0f4ac9a4e42a1bfd03ea5ad8385",
            "456367d15f1e4e0caec4613cd7f2dd06",
            "aa10bfef862442cc89e1461d128885e6",
            "d265c76505b84b2a8f5c4353c607a54c",
            "c38923f96d6c4c729db4454262e6637b",
            "721d8dc52ae641b4ac185a81a27d93d6",
            "0d598f3b76fe43a490c2c44212a97cdf",
            "e183e7cba54448cdbf62dc11e02b715c",
            "ec3ab796ef4b41b7866f85f2bb5953c6",
            "80c44fed0cef414db70f83e11fddf251",
            "56e7696c55e04ac5818847981bd599f7",
            "d4b347a004274bd3a6994716f77cad19",
            "19e7e6e15dad4283a185bb62a365cdab",
            "9ef9f3165b6f4b0f87fb9f117a9506be"
          ]
        }
      },
      "execution_count": null,
      "outputs": [
        {
          "output_type": "stream",
          "name": "stdout",
          "text": [
            "***** INSIRA AS CARACTERÍSTICAS DOS SEU AUTOMÓVEL****\n"
          ]
        },
        {
          "output_type": "display_data",
          "data": {
            "text/plain": [
              "Dropdown(description='Marca:', options=('acura', 'agrale', 'alfa romeo', 'am gen', 'americar', 'asia motors', …"
            ],
            "application/vnd.jupyter.widget-view+json": {
              "version_major": 2,
              "version_minor": 0,
              "model_id": "42fde6ae9d6d4817a89d626a46f63197"
            }
          },
          "metadata": {}
        },
        {
          "output_type": "display_data",
          "data": {
            "text/plain": [
              "Dropdown(description='Tipo Veículo:', options=('antigo', 'buggy', 'conversível', 'hatch', 'passeio', 'pick-up'…"
            ],
            "application/vnd.jupyter.widget-view+json": {
              "version_major": 2,
              "version_minor": 0,
              "model_id": "3f96cf510e84469692bda59e1b94ec66"
            }
          },
          "metadata": {}
        },
        {
          "output_type": "display_data",
          "data": {
            "text/plain": [
              "IntSlider(value=2022, description='Ano Veículo:', max=2022, min=1990)"
            ],
            "application/vnd.jupyter.widget-view+json": {
              "version_major": 2,
              "version_minor": 0,
              "model_id": "c9b3181eb1ac4844aadb664ae06f2dc8"
            }
          },
          "metadata": {}
        },
        {
          "output_type": "display_data",
          "data": {
            "text/plain": [
              "BoundedIntText(value=5000, description='KM Veículo:', max=200000, min=5000)"
            ],
            "application/vnd.jupyter.widget-view+json": {
              "version_major": 2,
              "version_minor": 0,
              "model_id": "980dd355df8c469c8060bd92a7787721"
            }
          },
          "metadata": {}
        },
        {
          "output_type": "display_data",
          "data": {
            "text/plain": [
              "FloatSlider(value=1.0, description='Potência:', max=4.0, min=1.0)"
            ],
            "application/vnd.jupyter.widget-view+json": {
              "version_major": 2,
              "version_minor": 0,
              "model_id": "fbc162599e144512af0e4012474c5adc"
            }
          },
          "metadata": {}
        },
        {
          "output_type": "display_data",
          "data": {
            "text/plain": [
              "Dropdown(description='Cor:', options=('amarelo', 'azul', 'branco', 'cinza', 'laranja', 'outra', 'prata', 'pret…"
            ],
            "application/vnd.jupyter.widget-view+json": {
              "version_major": 2,
              "version_minor": 0,
              "model_id": "1a4d062ea237412b871c605cafd04983"
            }
          },
          "metadata": {}
        },
        {
          "output_type": "display_data",
          "data": {
            "text/plain": [
              "Dropdown(description='Combustível:', options=('diesel', 'elétrico', 'flex', 'gasolina', 'gás natural', 'híbrid…"
            ],
            "application/vnd.jupyter.widget-view+json": {
              "version_major": 2,
              "version_minor": 0,
              "model_id": "be38b1de7c334be39c6990df79e0d139"
            }
          },
          "metadata": {}
        },
        {
          "output_type": "display_data",
          "data": {
            "text/plain": [
              "Dropdown(description='Câmbio:', options=('automático', 'manual', 'semi-automático'), value='automático')"
            ],
            "application/vnd.jupyter.widget-view+json": {
              "version_major": 2,
              "version_minor": 0,
              "model_id": "ae78c0f4ac9a4e42a1bfd03ea5ad8385"
            }
          },
          "metadata": {}
        },
        {
          "output_type": "display_data",
          "data": {
            "text/plain": [
              "Dropdown(description='Direção:', options=('assistida', 'elétrica', 'hidráulica', 'mecânica'), value='assistida…"
            ],
            "application/vnd.jupyter.widget-view+json": {
              "version_major": 2,
              "version_minor": 0,
              "model_id": "d265c76505b84b2a8f5c4353c607a54c"
            }
          },
          "metadata": {}
        },
        {
          "output_type": "display_data",
          "data": {
            "text/plain": [
              "Dropdown(description='Portas:', options=(2, 4), value=2)"
            ],
            "application/vnd.jupyter.widget-view+json": {
              "version_major": 2,
              "version_minor": 0,
              "model_id": "0d598f3b76fe43a490c2c44212a97cdf"
            }
          },
          "metadata": {}
        },
        {
          "output_type": "display_data",
          "data": {
            "text/plain": [
              "Button(button_style='info', description='Fazer previsão!', icon='check', style=ButtonStyle())"
            ],
            "application/vnd.jupyter.widget-view+json": {
              "version_major": 2,
              "version_minor": 0,
              "model_id": "80c44fed0cef414db70f83e11fddf251"
            }
          },
          "metadata": {}
        },
        {
          "output_type": "display_data",
          "data": {
            "text/plain": [
              "Output()"
            ],
            "application/vnd.jupyter.widget-view+json": {
              "version_major": 2,
              "version_minor": 0,
              "model_id": "19e7e6e15dad4283a185bb62a365cdab"
            }
          },
          "metadata": {}
        }
      ]
    },
    {
      "cell_type": "code",
      "source": [
        ""
      ],
      "metadata": {
        "id": "gl1XqBUx4zHh"
      },
      "execution_count": null,
      "outputs": []
    }
  ]
}